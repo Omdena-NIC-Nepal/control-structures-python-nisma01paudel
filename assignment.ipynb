{
 "cells": [
  {
   "cell_type": "markdown",
   "metadata": {},
   "source": [
    "## Python Control Structures Assignment\n",
    "\n",
    "# Instructions\n",
    "Welcome to the Python Control Structures Assignment! In this assignment, you will work through a series of exercises to test your understanding of Python control structures like `while`, `for`, and `if` statements, including the use of `break` and `continue` statements. Your task is to implement the provided starter code and ensure your solutions meet the requirements.\n",
    "\n",
    "### Part 1: Looping Constructs\n",
    "\n",
    "#### Task 1: `while` loop\n",
    "- Write a `while` loop that prints all the even numbers from 0 to 20.\n",
    "- If the number reaches 16, break out of the loop."
   ]
  },
  {
   "cell_type": "code",
   "execution_count": 14,
   "metadata": {},
   "outputs": [],
   "source": [
    "# Task 1: while loop\n",
    "def while_loop():\n",
    "    \"\"\"Print even numbers up to 16\"\"\"\n",
    "    num = 0\n",
    "    while num <= 16:\n",
    "        print(num)\n",
    "        if num == 16:  \n",
    "            break\n",
    "        num += 2"
   ]
  },
  {
   "cell_type": "markdown",
   "metadata": {},
   "source": [
    "#### Task 2: `for` loop with `continue`\n",
    "- Write a `for` loop that iterates through numbers from 1 to 15.\n",
    "- If the number is divisible by 3, skip printing it using the `continue` statement.\n"
   ]
  },
  {
   "cell_type": "code",
   "execution_count": 2,
   "metadata": {},
   "outputs": [
    {
     "name": "stdout",
     "output_type": "stream",
     "text": [
      "1\n",
      "2\n",
      "4\n",
      "5\n",
      "7\n",
      "8\n",
      "10\n",
      "11\n",
      "13\n",
      "14\n"
     ]
    }
   ],
   "source": [
    "# Task 2: for loop with continue\n",
    "def for_loop_continue():\n",
    "    \"\"\"Print numbers from 1 to 15, skipping those divisible by 3\"\"\"\n",
    "    for num in range(1, 16):\n",
    "        if num % 3 == 0:\n",
    "            continue\n",
    "        print(num)\n",
    "\n",
    "    "
   ]
  },
  {
   "cell_type": "markdown",
   "metadata": {},
   "source": [
    "#### Task 3: `if-else` statement\n",
    "- Write an `if-else` statement that checks if a given number is positive, negative, or zero.\n",
    "- Print an appropriate message for each case."
   ]
  },
  {
   "cell_type": "code",
   "execution_count": 9,
   "metadata": {},
   "outputs": [
    {
     "name": "stdin",
     "output_type": "stream",
     "text": [
      "Enter a number:  0\n"
     ]
    },
    {
     "name": "stdout",
     "output_type": "stream",
     "text": [
      "zero\n"
     ]
    }
   ],
   "source": [
    "# Task 3: if-else statement\n",
    "def number_classification(number=None):\n",
    "    \"\"\"Classify a number as positive, negative, or zero\"\"\"\n",
    "    if number is None:  # Allow test case to work without argument\n",
    "        number = int(input())\n",
    "\n",
    "    if number > 0:\n",
    "        print('positive')\n",
    "    elif number < 0:\n",
    "        print('negative')\n",
    "    else:\n",
    "        print(\"zero\")"
   ]
  },
  {
   "cell_type": "markdown",
   "metadata": {},
   "source": [
    "#### Task 4: Nested loops\n",
    "- Write a program that uses nested loops to print a multiplication table for numbers 1 through 5.\n"
   ]
  },
  {
   "cell_type": "code",
   "execution_count": 5,
   "metadata": {},
   "outputs": [
    {
     "name": "stdout",
     "output_type": "stream",
     "text": [
      "1*1=1\n",
      "1*2=2\n",
      "1*3=3\n",
      "1*4=4\n",
      "1*5=5\n",
      "\n",
      "\n",
      "2*1=2\n",
      "2*2=4\n",
      "2*3=6\n",
      "2*4=8\n",
      "2*5=10\n",
      "\n",
      "\n",
      "3*1=3\n",
      "3*2=6\n",
      "3*3=9\n",
      "3*4=12\n",
      "3*5=15\n",
      "\n",
      "\n",
      "4*1=4\n",
      "4*2=8\n",
      "4*3=12\n",
      "4*4=16\n",
      "4*5=20\n",
      "\n",
      "\n",
      "5*1=5\n",
      "5*2=10\n",
      "5*3=15\n",
      "5*4=20\n",
      "5*5=25\n",
      "\n",
      "\n"
     ]
    }
   ],
   "source": [
    "# Task 4: Nested loops\n",
    "def multiplication_table():\n",
    "    \"\"\"Print a 5x5 multiplication table with formatted output\"\"\"\n",
    "    for i in range(1, 6):\n",
    "        for j in range(1, 6):\n",
    "            print(f\"{i} x {j} = {i * j}\")\n",
    "    "
   ]
  },
  {
   "cell_type": "markdown",
   "metadata": {},
   "source": []
  }
 ],
 "metadata": {
  "kernelspec": {
   "display_name": "Python 3 (ipykernel)",
   "language": "python",
   "name": "python3"
  },
  "language_info": {
   "codemirror_mode": {
    "name": "ipython",
    "version": 3
   },
   "file_extension": ".py",
   "mimetype": "text/x-python",
   "name": "python",
   "nbconvert_exporter": "python",
   "pygments_lexer": "ipython3",
   "version": "3.12.7"
  }
 },
 "nbformat": 4,
 "nbformat_minor": 4
}
